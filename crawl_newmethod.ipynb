{
 "cells": [
  {
   "cell_type": "code",
   "execution_count": 2,
   "metadata": {},
   "outputs": [
    {
     "name": "stdout",
     "output_type": "stream",
     "text": [
      "[log]  https://www.tripadvisor.com.vn/Hotel_Review-g293925-d15113167-Reviews-Au_Lac_Charner_Hotel-Ho_Chi_Minh_City.html\n"
     ]
    }
   ],
   "source": [
    "from selenium import webdriver\n",
    "from selenium.webdriver.chrome.options import Options\n",
    "import os\n",
    "from time import sleep\n",
    "from selenium.webdriver.common.by import By\n",
    "from bs4 import BeautifulSoup\n",
    "import time \n",
    "from unidecode import unidecode\n",
    "import json \n",
    "from thefuzz import process,fuzz\n",
    "from selenium.webdriver.common.proxy import Proxy, ProxyType\n",
    "from selenium.webdriver.support.ui import WebDriverWait\n",
    "from selenium.webdriver.support import expected_conditions as EC\n",
    "from selenium.webdriver.common.keys import Keys\n",
    "\n",
    "import requests\n",
    "\n",
    "\n",
    "\n",
    "def initDriver():\n",
    "    # proxy_data = getProxy()\n",
    "    # prox = Proxy()\n",
    "    # prox.proxy_type = ProxyType.MANUAL\n",
    "    # prox.socks_version = 5\n",
    "    # prox.socks_proxy = proxy_data\n",
    "    WINDOW_SIZE = \"1000,2000\"\n",
    "    chrome_options = Options()\n",
    "    # chrome_options.proxy = prox\n",
    "    chrome_options.add_argument(\"--window-size=%s\" % WINDOW_SIZE)\n",
    "    chrome_options.add_argument('--no-sandbox')\n",
    "    chrome_options.add_argument('disable-infobars')\n",
    "    \n",
    "    driver = webdriver.Chrome(options=chrome_options)\n",
    "    return driver\n",
    "\n",
    "driver = initDriver()\n",
    "target = \"https://www.tripadvisor.com.vn/Hotel_Review-g293925-d15113167-Reviews-Au_Lac_Charner_Hotel-Ho_Chi_Minh_City.html\"\n",
    "print(\"[log] \", target)\n",
    "driver.get(target)"
   ]
  },
  {
   "cell_type": "code",
   "execution_count": 3,
   "metadata": {},
   "outputs": [
    {
     "data": {
      "text/plain": [
       "'Au Lac Charner Hotel'"
      ]
     },
     "execution_count": 3,
     "metadata": {},
     "output_type": "execute_result"
    }
   ],
   "source": [
    "WebDriverWait(driver, 10).until(EC.element_to_be_clickable((By.XPATH, '//body[1]/div[1]/main[1]/span[1]/div[4]/div[1]/div[1]/div[3]/div[1]/div[2]/div[1]/h1[1]'))).text\n"
   ]
  },
  {
   "cell_type": "code",
   "execution_count": 4,
   "metadata": {},
   "outputs": [
    {
     "data": {
      "text/plain": [
       "'Số 10 trong 749 khách sạn tại Thành phố Hồ Chí Minh'"
      ]
     },
     "execution_count": 4,
     "metadata": {},
     "output_type": "execute_result"
    }
   ],
   "source": [
    "WebDriverWait(driver, 10).until(EC.element_to_be_clickable((By.XPATH, '//body[1]/div[1]/main[1]/span[1]/div[4]/div[1]/div[1]/div[3]/div[1]/div[3]/div[1]/div[1]/a[1]/div[1]'))).text\n"
   ]
  },
  {
   "cell_type": "code",
   "execution_count": 5,
   "metadata": {},
   "outputs": [
    {
     "data": {
      "text/plain": [
       "'2.166.189 ₫'"
      ]
     },
     "execution_count": 5,
     "metadata": {},
     "output_type": "execute_result"
    }
   ],
   "source": [
    "WebDriverWait(driver, 10).until(EC.element_to_be_clickable((By.XPATH, '//body[1]/div[1]/main[1]/span[1]/div[4]/div[2]/div[1]/div[3]/div[1]/div[3]/div[3]/div[1]/div[1]/span[1]/a[1]/div[1]/div[3]/div[3]/div[1]'))).text\n"
   ]
  },
  {
   "cell_type": "code",
   "execution_count": 6,
   "metadata": {},
   "outputs": [
    {
     "data": {
      "text/plain": [
       "'5,0'"
      ]
     },
     "execution_count": 6,
     "metadata": {},
     "output_type": "execute_result"
    }
   ],
   "source": [
    "# //body[1]/div[1]/main[1]/span[1]/div[4]/div[2]/div[1]/div[5]/div[1]/div[1]/div[1]/div[1]/div[2]/div[1]/div[1]/span[1]\n",
    "WebDriverWait(driver, 10).until(EC.element_to_be_clickable((By.XPATH, '//body[1]/div[1]/main[1]/span[1]/div[4]/div[2]/div[1]/div[5]/div[1]/div[1]/div[1]/div[1]/div[2]/div[1]/div[1]/span[1]'))).text"
   ]
  },
  {
   "cell_type": "code",
   "execution_count": 7,
   "metadata": {},
   "outputs": [
    {
     "data": {
      "text/plain": [
       "'Tiện nghi của khách sạn\\nInternet tốc độ miễn phí (WiFi)\\nBể bơi\\nTrung tâm thể dục thẩm mỹ\\nBữa sáng miễn phí\\nXe đưa đón sân bay\\nPhòng họp\\nSpa\\nSân thượng\\nHiển thị thêm\\nTiện nghi trong phòng\\nMàn che ánh sáng\\nÁo choàng tắm\\nĐiều hòa nhiệt độ\\nDịch vụ phòng\\nKét sắt\\nTủ đựng máy tính xách tay\\nQuầy bar mini\\nTV màn hình phẳng\\nHiển thị thêm\\nLoại phòng\\nPhòng không hút thuốc\\nPhòng Suite\\nPhòng cho gia đình'"
      ]
     },
     "execution_count": 7,
     "metadata": {},
     "output_type": "execute_result"
    }
   ],
   "source": [
    "WebDriverWait(driver, 10).until(EC.element_to_be_clickable((By.XPATH, '//body[1]/div[1]/main[1]/span[1]/div[4]/div[2]/div[1]/div[5]/div[1]/div[1]/div[1]/div[1]/div[2]/div[2]'))).text"
   ]
  },
  {
   "cell_type": "code",
   "execution_count": 8,
   "metadata": {},
   "outputs": [],
   "source": [
    "driver.quit()"
   ]
  },
  {
   "cell_type": "code",
   "execution_count": null,
   "metadata": {},
   "outputs": [],
   "source": []
  }
 ],
 "metadata": {
  "kernelspec": {
   "display_name": "base",
   "language": "python",
   "name": "python3"
  },
  "language_info": {
   "codemirror_mode": {
    "name": "ipython",
    "version": 3
   },
   "file_extension": ".py",
   "mimetype": "text/x-python",
   "name": "python",
   "nbconvert_exporter": "python",
   "pygments_lexer": "ipython3",
   "version": "3.8.3"
  }
 },
 "nbformat": 4,
 "nbformat_minor": 2
}
